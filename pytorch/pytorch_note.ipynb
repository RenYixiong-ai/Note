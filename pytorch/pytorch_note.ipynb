{
 "cells": [
  {
   "cell_type": "markdown",
   "metadata": {},
   "source": [
    "# 简介\n",
    "\n",
    "本文是B站课程[《PyTorch深度学习实践》完结合集](https://www.bilibili.com/video/BV1Y7411d7Ys/?spm_id_from=333.999.0.0&vd_source=f9eb99d14a0acbcfa188c1e70864412e)的笔记，以及后期自己使用学习的补充，其中包括的内容为：\n",
    "\n",
    "* torch 的数组构建，以及反向传播的实现\n",
    "* 标准的全连接网络结构\n",
    "* 数据集Dataset、DataLoader\n",
    "* 卷积神经网络实现\n",
    "* 循环神经网络\n",
    "* 模型保存与读取\n",
    "\n",
    "以下是必要引入的库函数"
   ]
  },
  {
   "cell_type": "code",
   "execution_count": null,
   "metadata": {},
   "outputs": [],
   "source": [
    "import torch                        \n",
    "import numpy as np      #熟悉的数据处理工具\n",
    "import matplotlib.pyplot as plt     #画图工具\n",
    "from torch.utils.data import Dataset        #读取数据集 \n",
    "from torch.utils.data import DataLoader     #将数据集以mini-batch的方式进行训练\n"
   ]
  },
  {
   "cell_type": "markdown",
   "metadata": {},
   "source": [
    "# Torch 数组构建\n",
    "torch 构建的数组，分为两个部分，一个是数据的数组，另一部分是保存梯度的数组。默认梯度数组是不构建的，需要手动选择。\n",
    "反向传播的过程中需要定义损失函数，而且在之后需要将梯度清零，否则将会与之前的梯度相加。\n",
    "\n",
    "以下考虑任务：拟合$y = w x$中的$w$"
   ]
  },
  {
   "cell_type": "code",
   "execution_count": null,
   "metadata": {},
   "outputs": [],
   "source": [
    "w = torch.tensor([10.0])            # w为需要优化的参数，首先赋予初值\n",
    "w.requires_grad = True              # 打开梯度开关\n",
    "\n",
    "x_data = [1.0, 2.0, 3.0]\n",
    "y_data = [2.0, 4.0, 6.0]\n",
    "\n",
    "# 前向传播过程\n",
    "def forward(x):                     \n",
    "    return x * w\n",
    "\n",
    "# 定义损失函数\n",
    "def loss(x, y):\n",
    "    y_pred = forward(x)\n",
    "    return (y_pred - y) ** 2\n",
    "\n",
    "# tensor的数组，如果只想输出标量值，要用item()，否则将会携带梯度。长期以往，内存占用过高。\n",
    "print(\"predict (before training)\", 4, forward(4).item()) \n",
    "\n",
    "for epoch in range(100):\n",
    "    for x, y in zip(x_data, y_data):\n",
    "        l = loss(x, y)\n",
    "        l.backward()\n",
    "        print('\\tgrad:', x, y, w.data, w.grad.item())\n",
    "        w.data = w.data - 0.01 * w.grad.data            # 利用梯度数据更新\n",
    "        w.grad.data.zero_()             # 将梯度置零，否则将会与之前的梯度叠加"
   ]
  },
  {
   "cell_type": "markdown",
   "metadata": {},
   "source": [
    "注意：从其他地方读入的数组需要转化为 float32 的类型"
   ]
  },
  {
   "cell_type": "markdown",
   "metadata": {},
   "source": [
    "# 标准的全连接网络结构\n",
    "\n",
    "应该包含三个部分：\n",
    "* 网络的构建\n",
    "* 损失函数\n",
    "* 优化器（反向传播的过程）"
   ]
  },
  {
   "cell_type": "markdown",
   "metadata": {},
   "source": [
    "## 网络构建\n",
    "\n",
    "网络结构应该继承自**torch.nn.Module**，其中必须包含两部分：初始函数 **\\_\\_init\\_\\_** 、前向传播 **forward** 。"
   ]
  },
  {
   "cell_type": "code",
   "execution_count": null,
   "metadata": {},
   "outputs": [],
   "source": [
    "class LinearModel(torch.nn.Module):\n",
    "    def __init__(self):\n",
    "        super(LinearModel, self).__init__()\n",
    "        self.linear = torch.nn.Linear(1, 1)\n",
    "\n",
    "    def forward(self, x):\n",
    "        y_pred = self.linear(x)\n",
    "        return y_pred\n",
    "model = LinearModel()               # 实例化"
   ]
  },
  {
   "cell_type": "markdown",
   "metadata": {},
   "source": [
    "## 损失函数、优化器\n",
    "\n",
    "这部分考虑自己的任务是什么（回归、分类），标签的特征是什么，从而选择对应的损失函数与优化器。"
   ]
  },
  {
   "cell_type": "code",
   "execution_count": null,
   "metadata": {},
   "outputs": [],
   "source": [
    "criterion = torch.nn.MSELoss(size_average=False)\n",
    "optimizer = torch.optim.SGD(model.parameters(), lr=0.01)"
   ]
  },
  {
   "cell_type": "markdown",
   "metadata": {},
   "source": [
    "以下考虑任务：拟合$y = w x$中的$w$"
   ]
  },
  {
   "cell_type": "code",
   "execution_count": null,
   "metadata": {},
   "outputs": [],
   "source": [
    "x_data = torch.tensor([[1.0], [2.0]])\n",
    "y_data = torch.tensor([[3.0], [6.0]])\n",
    "\n",
    "loss_list = []\n",
    "for epoch in range(50):\n",
    "    y_pred = model(x_data)              # 得到预测值\n",
    "    loss = criterion(y_pred, y_data)    # 计算损失函数\n",
    "\n",
    "    optimizer.zero_grad()               # 在反向传播前将网络中参数的梯度置0\n",
    "    loss.backward()                     # 损失进行反向传播\n",
    "    optimizer.step()                    # 优化器对每一个参数进行更新"
   ]
  },
  {
   "cell_type": "markdown",
   "metadata": {},
   "source": [
    "# 数据集\n",
    "\n",
    "Dataset是抽象类用于读取全部的数据集，划分输入数据与目标，无法实例化；DataLoader用以设置mini-batch生成的重要参数，可以实例化。"
   ]
  },
  {
   "cell_type": "code",
   "execution_count": null,
   "metadata": {},
   "outputs": [],
   "source": [
    "class DiabetesDataset(Dataset):\n",
    "    def __init__(self, filepath):\n",
    "        xy = np.loadtxt(filepath, delimiter=',', dtype=np.float32)  # 从外部读取\n",
    "        self.len = xy.shape[0]                          #确定数据的个数\n",
    "        self.x_data = torch.from_numpy(xy[:, :-1])      #设置其中一组数据\n",
    "        self.y_data = torch.from_numpy(xy[:, [-1]])\n",
    "\n",
    "    def __getitem__(self, index):\n",
    "        return self.x_data[index], self.y_data[index]   # 返回的数据\n",
    "\n",
    "    def __len__(self):\n",
    "        return self.len     # 数据总长度\n",
    "\n",
    "dataset = DiabetesDataset(PATH)\n",
    "\n",
    "#实例化，并且设置mini-batch的重要参数\n",
    "train_loader = DataLoader(dataset=dataset, batch_size=32, shuffle=True, num_workers=4) \n",
    "\n",
    "for epoch in range(100):\n",
    "    for i, data in enumerate(train_loader):     #读取数据\n",
    "        inputs, labels = data\n",
    "        y_pred = model(inputs)\n",
    "        print(y_pred)\n",
    "        loss = criterion(y_pred, labels)\n",
    "        #print(epoch, i, loss.item())\n",
    "\n",
    "        optimizer.zero_grad()\n",
    "        loss.backward()\n",
    "\n",
    "        optimizer.step()"
   ]
  },
  {
   "cell_type": "markdown",
   "metadata": {},
   "source": [
    "# 卷积神经网络\n",
    "标准化的过程包含五个部分：CBAPD，分别是:Conv, BatchNormal, Activate, Pool, Dropout"
   ]
  },
  {
   "cell_type": "code",
   "execution_count": null,
   "metadata": {},
   "outputs": [],
   "source": [
    "class Net(torch.nn.Module):\n",
    "    def __init__(self):\n",
    "        super(Net, self).__init__()\n",
    "        self.conv1 = torch.nn.Conv2d(1, 10, kernel_size=3)\n",
    "        self.conv2 = torch.nn.Conv2d(10, 20, kernel_size=2)\n",
    "        self.conv3 = torch.nn.Conv2d(20, 30, kernel_size=3)\n",
    "        self.pooling = torch.nn.MaxPool2d(2)\n",
    "        self.l1 = torch.nn.Linear(120, 80)\n",
    "        self.l2 = torch.nn.Linear(80, 40)\n",
    "        self.l3 = torch.nn.Linear(40, 10)\n",
    "    def forward(self, input):\n",
    "        batch_size = input.size(0)\n",
    "        x = F.relu(self.pooling(self.conv1(input)))\n",
    "        x = F.relu(self.pooling(self.conv2(x)))\n",
    "        x = F.relu(self.pooling(self.conv3(x)))\n",
    "        x = x.view(batch_size, -1)\n",
    "        x = F.relu(self.l1(x))\n",
    "        x = F.relu(self.l2(x))\n",
    "        x = self.l3(x)\n",
    "        return x\n",
    "\n",
    "model = Net()"
   ]
  },
  {
   "attachments": {},
   "cell_type": "markdown",
   "metadata": {},
   "source": [
    "# 循环神经网络\n",
    "\n",
    "这部分暂时不熟悉，暂且只展示代码。"
   ]
  },
  {
   "cell_type": "markdown",
   "metadata": {},
   "source": [
    "## 使用RNNCell单元构建"
   ]
  },
  {
   "cell_type": "code",
   "execution_count": null,
   "metadata": {},
   "outputs": [],
   "source": [
    "cell = torch.nn.RNNCell(input_size=input_size, hidden_size=hidden_size)"
   ]
  },
  {
   "cell_type": "markdown",
   "metadata": {},
   "source": [
    "## 使用RNN单元构建"
   ]
  },
  {
   "cell_type": "code",
   "execution_count": null,
   "metadata": {},
   "outputs": [],
   "source": [
    "cell = torch.nn.RNN(input_size=input_size, hidden_size=hidden_size, num_layers=num_layers)"
   ]
  },
  {
   "attachments": {},
   "cell_type": "markdown",
   "metadata": {},
   "source": [
    "# 模型保存与读取\n",
    "\n",
    "详细参考官网的[教程](https://pytorch.org/tutorials/beginner/saving_loading_models.html)\n",
    "\n",
    "建议保存为：pt、pth后缀\n",
    "\n",
    "## 只保存模型参数"
   ]
  },
  {
   "cell_type": "code",
   "execution_count": null,
   "metadata": {},
   "outputs": [],
   "source": [
    "# save\n",
    "torch.save(model.state_dict(), PATH)\n",
    "\n",
    "# load\n",
    "model = TheModelClass(*args, **kwargs)\n",
    "model.load_state_dict(torch.load(PATH))\n",
    "model.eval()"
   ]
  },
  {
   "attachments": {},
   "cell_type": "markdown",
   "metadata": {},
   "source": [
    "## 保存整个模型\n",
    "\n",
    "有个疑惑：在加载整个模型的时候，是否还需要写出这个模型的类？"
   ]
  },
  {
   "cell_type": "code",
   "execution_count": null,
   "metadata": {},
   "outputs": [],
   "source": [
    "# save\n",
    "torch.save(model, PATH)\n",
    "\n",
    "# load\n",
    "# Model class must be defined somewhere\n",
    "model = torch.load(PATH)\n",
    "model.eval()"
   ]
  },
  {
   "cell_type": "markdown",
   "metadata": {},
   "source": [
    "# 其它"
   ]
  },
  {
   "cell_type": "markdown",
   "metadata": {},
   "source": [
    "## 如何使用GPU计算"
   ]
  },
  {
   "cell_type": "markdown",
   "metadata": {},
   "source": [
    "首先确认是否有可用的GPU\n",
    "然后选择一个设备，在训练的时候，数据集与模型必须在同一个设备上。"
   ]
  },
  {
   "cell_type": "code",
   "execution_count": null,
   "metadata": {},
   "outputs": [],
   "source": [
    "device = torch.device('cuda:0' if torch.cuda.is_available() else 'cpu')\n",
    "model.to(device)\n",
    "data.to(device)"
   ]
  }
 ],
 "metadata": {
  "kernelspec": {
   "display_name": "Python 3.8.13 ('learntorch')",
   "language": "python",
   "name": "python3"
  },
  "language_info": {
   "codemirror_mode": {
    "name": "ipython",
    "version": 3
   },
   "file_extension": ".py",
   "mimetype": "text/x-python",
   "name": "python",
   "nbconvert_exporter": "python",
   "pygments_lexer": "ipython3",
   "version": "3.8.13 (default, Mar 28 2022, 11:38:47) \n[GCC 7.5.0]"
  },
  "orig_nbformat": 4,
  "vscode": {
   "interpreter": {
    "hash": "3e77dff8b2881f41521c681fc36f9426976b25d23f15852079a5aaca2a5e8e9d"
   }
  }
 },
 "nbformat": 4,
 "nbformat_minor": 2
}
